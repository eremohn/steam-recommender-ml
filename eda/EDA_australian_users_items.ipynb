{
 "cells": [
  {
   "cell_type": "markdown",
   "metadata": {},
   "source": [
    "### carga de datos"
   ]
  },
  {
   "cell_type": "code",
   "execution_count": 4,
   "metadata": {},
   "outputs": [],
   "source": [
    "import pandas as pd\n",
    "import matplotlib.pyplot as plt\n",
    "df = pd.read_csv('australian_users_items.csv')"
   ]
  },
  {
   "cell_type": "markdown",
   "metadata": {},
   "source": [
    "### Informacion del DataFrame\n",
    "#### se utiliza info() para obtener información sobre las columnas y los tipos de datos"
   ]
  },
  {
   "cell_type": "code",
   "execution_count": 5,
   "metadata": {},
   "outputs": [
    {
     "name": "stdout",
     "output_type": "stream",
     "text": [
      "<class 'pandas.core.frame.DataFrame'>\n",
      "RangeIndex: 178428 entries, 0 to 178427\n",
      "Data columns (total 8 columns):\n",
      " #   Column            Non-Null Count   Dtype \n",
      "---  ------            --------------   ----- \n",
      " 0   user_id           178428 non-null  object\n",
      " 1   items_count       178428 non-null  int64 \n",
      " 2   steam_id          178428 non-null  int64 \n",
      " 3   user_url          178428 non-null  object\n",
      " 4   item_id           178428 non-null  int64 \n",
      " 5   item_name         178428 non-null  object\n",
      " 6   playtime_forever  178428 non-null  int64 \n",
      " 7   playtime_2weeks   178428 non-null  int64 \n",
      "dtypes: int64(5), object(3)\n",
      "memory usage: 10.9+ MB\n",
      "None\n"
     ]
    }
   ],
   "source": [
    "print(df.info())"
   ]
  }
 ],
 "metadata": {
  "kernelspec": {
   "display_name": "Python 3",
   "language": "python",
   "name": "python3"
  },
  "language_info": {
   "codemirror_mode": {
    "name": "ipython",
    "version": 3
   },
   "file_extension": ".py",
   "mimetype": "text/x-python",
   "name": "python",
   "nbconvert_exporter": "python",
   "pygments_lexer": "ipython3",
   "version": "3.12.1"
  }
 },
 "nbformat": 4,
 "nbformat_minor": 2
}
